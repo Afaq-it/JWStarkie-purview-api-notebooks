{
 "cells": [
  {
   "cell_type": "markdown",
   "metadata": {
    "nteract": {
     "transient": {
      "deleting": false
     }
    }
   },
   "source": [
    "# Interact with the Purview API using Python\n",
    "In this demo, you will explore how to interact with Azure Purview's Atlas API by creating custom assets and custom lineage between them. \n",
    "You can find a [tutorial on Microsoft Docs](https://docs.microsoft.com/en-us/azure/purview/tutorial-using-rest-apis) on interacting with the REST API directly, however, in this notebook you simplify the process by making use of the [PyApacheAtlas](https://github.com/wjohnson/pyapacheatlas) Python package.\n",
    "![PyApacheAtlas](./img/pyapacheatlas.png)"
   ]
  },
  {
   "cell_type": "code",
   "execution_count": null,
   "metadata": {},
   "outputs": [],
   "source": [
    "# First, start by installing PyApacheAtlas\n",
    "!pip install pyapacheatlas"
   ]
  },
  {
   "cell_type": "markdown",
   "metadata": {},
   "source": [
    "## Authenticate with Purview\n",
    "In order to authenticate with Purview, you can use a service principal that you have given access to your Purview instance. If you don't yet have a service principal set up, you can follow the steps described in section [Configure your catalog to trust the service principal](https://docs.microsoft.com/en-us/azure/purview/tutorial-using-rest-apis#configure-your-catalog-to-trust-the-service-principal-application) of the REST API tutorial.\n",
    "\n",
    "Before running the next cell, make sure to add your `tenant_id`, `client_id`, `client_secret` and `account_name`."
   ]
  },
  {
   "cell_type": "code",
   "execution_count": null,
   "metadata": {},
   "outputs": [],
   "source": [
    "from pyapacheatlas.auth import ServicePrincipalAuthentication\n",
    "from pyapacheatlas.core import PurviewClient\n",
    "\n",
    "# Create authentication\n",
    "# The parameters can be found in the 'Overview' and 'Certificates & secrets' pages of your service principal\n",
    "auth = ServicePrincipalAuthentication(\n",
    "    tenant_id = '', # Add directory (tenant) ID of your service principal (Overview page)\n",
    "    client_id = '', # Add application (client) ID of your service principal (Overview page)\n",
    "    client_secret = '' # Add client secret of your service principal (create on Certificates & secrets page)\n",
    ")\n",
    "\n",
    "# Note: Ideally we would store the secret in Azure Key Vault. We will have it here for demo purposes only!\n",
    "\n",
    "# Create a client to connect to your service\n",
    "client = PurviewClient(\n",
    "    account_name = '', # Add name of your purview resource (see Properties page)\n",
    "    authentication = auth\n",
    ")"
   ]
  },
  {
   "cell_type": "markdown",
   "metadata": {},
   "source": [
    "## Creating our first asset\n",
    "Files, SQL tables and partitioned datasets are all referred to within Purview as assets. Note that Purview stores the metadata of these assets, not the actual data they contain. Assets are usually created when a resource is scanned by Purview, however, you can also create assets through the API.\n",
    "With PyApacheAtlas you create an asset by first creating an `AtlasEntity` and then uploading it to Purview. During the creation of the entity, you specify the name, the type of the asset and its [qualified name](https://en.wikipedia.org/wiki/Fully_qualified_name). You can create your own type definition or select on of the built-in types, such as `azure_blob_object` or `azure_cosmosdb_database`. For now, you can just use the generic `DataSet` type definition.\n",
    "In addition, you must provide a [GUID](https://en.wikipedia.org/wiki/Universally_unique_identifier) as an arbitrary negative value. When you upload the entity, it will be assigned a valid GUID. "
   ]
  },
  {
   "cell_type": "code",
   "execution_count": null,
   "metadata": {},
   "outputs": [],
   "source": [
    "from pyapacheatlas.core import AtlasEntity\n",
    "import json\n",
    "\n",
    "# Create a new entity\n",
    "firstAsset = AtlasEntity(\n",
    "    name = \"MyFirstCustomAsset\", \n",
    "    typeName = \"DataSet\", \n",
    "    qualified_name = \"demo://MyFirstCustomAsset\",\n",
    "    guid = -1000\n",
    ")\n",
    "\n",
    "# Upload that entity with the client\n",
    "upload_results = client.upload_entities(firstAsset)\n",
    "print(json.dumps(upload_results, indent=2))"
   ]
  },
  {
   "cell_type": "markdown",
   "metadata": {},
   "source": [
    "Check if your asset has been created. Navigate to your Purview Studio. Select **Browse assets** and then **Atlas Core** on the bottom. If everything worked, your asset will appear here.\n",
    "![Our first custom asset in the Purview Studio](./img/check_first_asset.png)\n",
    "\n",
    "## Creating custom data lineage\n",
    "Purview can keep track of data lineage between assets, and you can create your own data lineage as well. To do so, first create two new assets. Then, connect them by creating an `AtlasProcess` and specify your assets as `input` and `output` respectively."
   ]
  },
  {
   "cell_type": "code",
   "execution_count": null,
   "metadata": {},
   "outputs": [],
   "source": [
    "# Create two new entities\n",
    "input01 = AtlasEntity(\n",
    "    name = \"Input01\", \n",
    "    typeName = \"DataSet\", \n",
    "    qualified_name = \"demo://input01\",\n",
    "    guid = -1001\n",
    ")\n",
    "\n",
    "output01 = AtlasEntity(\n",
    "    name = \"Output01\", \n",
    "    typeName = \"DataSet\", \n",
    "    qualified_name = \"demo://output01\",\n",
    "    guid = -1002\n",
    ")\n",
    "\n",
    "# Upload both entities with the client\n",
    "upload_results = client.upload_entities([input01, output01])\n",
    "print(json.dumps(upload_results, indent=2))\n",
    "\n",
    "# Extract the assigned GUIDs from the upload results to be able to refer to our created assets\n",
    "input01_guid = upload_results['guidAssignments']['-1001']\n",
    "output01_guid = upload_results['guidAssignments']['-1002']"
   ]
  },
  {
   "cell_type": "code",
   "execution_count": null,
   "metadata": {},
   "outputs": [],
   "source": [
    "from pyapacheatlas.core import AtlasProcess\n",
    "\n",
    "# Create custom lineage process\n",
    "# In addition to the parameters we use when creating an AtlasEntity, we also specify the inputs and outputs\n",
    "process01 = AtlasProcess(\n",
    "    name = 'Process01',\n",
    "    typeName = 'Process',\n",
    "    qualified_name = 'demo://process01',\n",
    "    inputs = [{'guid': input01_guid}],\n",
    "    outputs = [{'guid': output01_guid}],\n",
    "    guid = -1003\n",
    ")\n",
    "\n",
    "# Upload process with the client\n",
    "upload_results = client.upload_entities(process01)\n",
    "print(upload_results)\n",
    "\n",
    "# Extract the assigned GUID from the upload result to be able to refer to our created process\n",
    "process01_guid = upload_results['guidAssignments']['-1003']"
   ]
  },
  {
   "cell_type": "markdown",
   "metadata": {},
   "source": [
    "Now, let's check your lineage in the Purview Studio. Refresh your assets page until you see **Process01**. After selecting the process, select the **Lineage** tab. You should now see a graph of your custom lineage.\n",
    "![Custom lineage graph](./img/custom_lineage.png)\n",
    "\n",
    "## Update the data lineage\n",
    "When creating data lineage, you are not limited to just one input and output each. Next, update the data lineage and add another input."
   ]
  },
  {
   "cell_type": "code",
   "execution_count": null,
   "metadata": {},
   "outputs": [],
   "source": [
    "# Create a new entity\n",
    "input02 = AtlasEntity(\n",
    "    name = 'Input02', \n",
    "    typeName = 'DataSet', \n",
    "    qualified_name = 'demo://input02',\n",
    "    guid = -1004\n",
    ")\n",
    "\n",
    "# Create a dummy process to save your updates into\n",
    "process01_update = AtlasProcess(\n",
    "    name = 'Process01',\n",
    "    typeName = 'Process',\n",
    "    qualified_name = 'demo://process01',\n",
    "    inputs = None,  # We will update this with .inputs below\n",
    "    outputs = None, # Set to None so no update will occur\n",
    "    guid = -1005\n",
    ")\n",
    "\n",
    "# Get the lineage process to update\n",
    "process01 = client.get_entity(\n",
    "    typeName=\"Process\",\n",
    "    guid=process01_guid\n",
    ")[\"entities\"][0]"
   ]
  },
  {
   "cell_type": "code",
   "execution_count": null,
   "metadata": {},
   "outputs": [],
   "source": [
    "# Get the list of existing outputs from the attributes.\n",
    "existing_inputs = process01[\"attributes\"][\"inputs\"]\n",
    "\n",
    "# Add the new input to the process\n",
    "process01_update.inputs = existing_inputs + [input02]\n",
    "\n",
    "# Upload the new input and the updated process\n",
    "upload_results = client.upload_entities([process01_update, input02])\n",
    "print(json.dumps(upload_results, indent=2))"
   ]
  },
  {
   "cell_type": "markdown",
   "metadata": {},
   "source": [
    "If you refresh the lineage of **Process01** in the Purview Portal, you should now see that the lineage includes two inputs.\n",
    "![Updated lineage](./img/updated_lineage.png)"
   ]
  },
  {
   "cell_type": "markdown",
   "metadata": {},
   "source": [
    "## Deleting assets and processes\n",
    "Now, clean up all of the custom assets you created. You can delete individual assets by passing their GUID to `client.delete_entity`. However, if you don't want to look for each asset's GUID, you can also delete them based on their qualified name."
   ]
  },
  {
   "cell_type": "code",
   "execution_count": null,
   "metadata": {},
   "outputs": [],
   "source": [
    "# Query for your custom assets by name\n",
    "assets = client.get_entity(\n",
    "    qualifiedName=['demo://MyFirstCustomAsset', 'demo://input01', 'demo://input02', 'demo://output01'],\n",
    "    typeName='DataSet'\n",
    ").get('entities')\n",
    "\n",
    "# Query for your lineage process\n",
    "processes = client.get_entity(\n",
    "    qualifiedName=['demo://process01'],\n",
    "    typeName='Process'\n",
    ").get('entities')\n",
    "\n",
    "# Iterate over each entity in both the assets and processes and delete each\n",
    "for entity in assets + processes:\n",
    "    guid = entity['guid']\n",
    "    delete_response = client.delete_entity(guid=guid)\n",
    "    print(json.dumps(delete_response, indent=2))"
   ]
  },
  {
   "cell_type": "markdown",
   "metadata": {},
   "source": [
    "Congratulations, you have now created your first custom assets and lineage in Azure Purview! You can find more code samples on the [PyApacheAtlas Github](https://github.com/wjohnson/pyapacheatlas/tree/master/samples)."
   ]
  },
  {
   "cell_type": "code",
   "execution_count": null,
   "metadata": {},
   "outputs": [],
   "source": []
  }
 ],
 "metadata": {
  "kernel_info": {
   "name": "python3-azureml"
  },
  "kernelspec": {
   "display_name": "Python 3.6 - AzureML",
   "language": "python",
   "name": "python3-azureml"
  },
  "language_info": {
   "codemirror_mode": {
    "name": "ipython",
    "version": 3
   },
   "file_extension": ".py",
   "mimetype": "text/x-python",
   "name": "python",
   "nbconvert_exporter": "python",
   "pygments_lexer": "ipython3",
   "version": "3.6.9"
  },
  "nteract": {
   "version": "nteract-front-end@1.0.0"
  }
 },
 "nbformat": 4,
 "nbformat_minor": 2
}